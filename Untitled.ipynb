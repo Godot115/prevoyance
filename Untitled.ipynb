{
 "cells": [
  {
   "cell_type": "code",
   "execution_count": 3,
   "id": "e09f2d5c",
   "metadata": {},
   "outputs": [
    {
     "name": "stdout",
     "output_type": "stream",
     "text": [
      "Index(['Date', 'Region', 'Temperature', 'Humidity', 'Pressure'], dtype='object')\n",
      "[{'id': 'Date', 'name': 'Date'}, {'id': 'Region', 'name': 'Region'}, {'id': 'Temperature', 'name': 'Temperature'}, {'id': 'Humidity', 'name': 'Humidity'}, {'id': 'Pressure', 'name': 'Pressure'}]\n"
     ]
    }
   ],
   "source": [
    "import pandas as pd\n",
    "from collections import OrderedDict\n",
    "\n",
    "\n",
    "data = OrderedDict(\n",
    "    [\n",
    "        (\"Date\", [\"2015-01-01\", \"2015-10-24\", \"2016-05-10\", \"2017-01-10\", \"2018-05-10\", \"2018-08-15\"]),\n",
    "        (\"Region\", [\"Montreal\", \"Toronto\", \"New York City\", \"Miami\", \"San Francisco\", \"London\"]),\n",
    "        (\"Temperature\", [1, -20, 3.512, 4, 10423, -441.2]),\n",
    "        (\"Humidity\", [10, 20, 30, 40, 50, 60]),\n",
    "        (\"Pressure\", [2, 10924, 3912, -10, 3591.2, 15]),\n",
    "    ]\n",
    ")\n",
    "\n",
    "df = pd.DataFrame(\n",
    "    OrderedDict([(name, col_data * 10) for (name, col_data) in data.items()])\n",
    ")\n",
    "print(df.columns)\n",
    "print([{'id': c, 'name': c} for c in df.columns])"
   ]
  }
 ],
 "metadata": {
  "kernelspec": {
   "display_name": "Python 3 (ipykernel)",
   "language": "python",
   "name": "python3"
  },
  "language_info": {
   "codemirror_mode": {
    "name": "ipython",
    "version": 3
   },
   "file_extension": ".py",
   "mimetype": "text/x-python",
   "name": "python",
   "nbconvert_exporter": "python",
   "pygments_lexer": "ipython3",
   "version": "3.8.12"
  }
 },
 "nbformat": 4,
 "nbformat_minor": 5
}
